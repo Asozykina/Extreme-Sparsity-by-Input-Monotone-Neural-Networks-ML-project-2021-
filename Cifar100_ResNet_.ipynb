{
 "cells": [
  {
   "cell_type": "markdown",
   "metadata": {
    "id": "gdfdI7qHZpxL"
   },
   "source": [
    "## Imports"
   ]
  },
  {
   "cell_type": "code",
   "execution_count": 1,
   "metadata": {
    "colab": {
     "base_uri": "https://localhost:8080/"
    },
    "id": "XNVMKou3nFfR",
    "outputId": "46839b05-0a12-4cb2-b339-505d28225e23"
   },
   "outputs": [
    {
     "data": {
      "text/plain": [
       "<torch._C.Generator at 0x7f11f923d830>"
      ]
     },
     "execution_count": 1,
     "metadata": {
      "tags": []
     },
     "output_type": "execute_result"
    }
   ],
   "source": [
    "import torch\n",
    "torch.manual_seed(0)"
   ]
  },
  {
   "cell_type": "code",
   "execution_count": 2,
   "metadata": {
    "id": "rS_-00tYDMoB"
   },
   "outputs": [],
   "source": [
    "import torchvision\n",
    "from torchvision.transforms import Compose\n",
    "from torchvision.models import resnet\n",
    "from torchvision import datasets, models\n",
    "from torchvision import transforms, utils\n",
    "\n",
    "from torch.utils.data import Dataset, DataLoader, random_split\n",
    "from torch.utils.data.dataset import Dataset\n",
    "from torch.optim.lr_scheduler import ReduceLROnPlateau\n",
    "import torch.nn.functional as F\n",
    "from torch.optim import lr_scheduler\n",
    "from torch import Generator, tensor\n",
    "import torch.nn as nn\n",
    "import torch.optim as optim\n",
    "from torch.nn import BCEWithLogitsLoss\n",
    "from torch.autograd import Variable\n",
    "from torch.optim import SGD, Adam\n",
    "from torch.utils.data import RandomSampler\n",
    "\n",
    "from sklearn.metrics import accuracy_score, confusion_matrix, f1_score, classification_report\n",
    "\n",
    "import random\n",
    "import pandas as pd\n",
    "import seaborn as sns\n",
    "import numpy as np\n",
    "\n",
    "from matplotlib import pyplot as plt\n",
    "from matplotlib.backends.backend_agg import FigureCanvasAgg\n",
    "from skimage.exposure import rescale_intensity\n",
    "from skimage.io import imread, imsave\n",
    "from skimage.transform import resize, rescale, rotate\n",
    "\n",
    "from PIL import Image\n",
    "from tqdm import tqdm\n",
    "import time\n",
    "import os"
   ]
  },
  {
   "cell_type": "code",
   "execution_count": 3,
   "metadata": {
    "id": "kUk5q49HfAi_"
   },
   "outputs": [],
   "source": [
    "device = torch.device('cuda:0' if torch.cuda.is_available() else 'cpu')"
   ]
  },
  {
   "cell_type": "markdown",
   "metadata": {
    "id": "fI9VnqbPZpxQ"
   },
   "source": [
    "## Dataset (CIFAR100)\n"
   ]
  },
  {
   "cell_type": "code",
   "execution_count": 4,
   "metadata": {
    "colab": {
     "base_uri": "https://localhost:8080/",
     "height": 113,
     "referenced_widgets": [
      "920ea4e658f64ad59e50d283ce48ee9a",
      "82cf0c50942244d884789509f1c9bcf0",
      "732ab3dc17f845618938d4eed65e8458",
      "24aac9c8fb5245478596947e9b662b29",
      "7d965d886c08441da40027e3b873364e",
      "4a25aa157fcd4633970894386be80e5a",
      "c9a5dd36dcec43c4a964eedbc1473615",
      "785c789903574616b4fe3c55146b35f5"
     ]
    },
    "id": "5vq5Cm0ADMoK",
    "outputId": "811590c4-6836-4b84-9acd-6ab33c2e3588"
   },
   "outputs": [
    {
     "name": "stdout",
     "output_type": "stream",
     "text": [
      "Downloading https://www.cs.toronto.edu/~kriz/cifar-100-python.tar.gz to ./data/cifar-100-python.tar.gz\n"
     ]
    },
    {
     "data": {
      "application/vnd.jupyter.widget-view+json": {
       "model_id": "920ea4e658f64ad59e50d283ce48ee9a",
       "version_major": 2,
       "version_minor": 0
      },
      "text/plain": [
       "HBox(children=(FloatProgress(value=0.0, max=169001437.0), HTML(value='')))"
      ]
     },
     "metadata": {
      "tags": []
     },
     "output_type": "display_data"
    },
    {
     "name": "stdout",
     "output_type": "stream",
     "text": [
      "\n",
      "Extracting ./data/cifar-100-python.tar.gz to ./data\n",
      "Files already downloaded and verified\n"
     ]
    }
   ],
   "source": [
    "dataset = torchvision.datasets.CIFAR100(root='./data', train=True,\n",
    "                                       download=True, transform=transforms.ToTensor())\n",
    "test_dataset = torchvision.datasets.CIFAR100(root='./data', train=False,\n",
    "                                            download=True, transform=transforms.ToTensor())\n",
    "train_dataset, val_dataset = torch.utils.data.random_split(dataset, [40000, 10000])"
   ]
  },
  {
   "cell_type": "code",
   "execution_count": 5,
   "metadata": {
    "id": "tY6OUeOODMoN"
   },
   "outputs": [],
   "source": [
    "batch_size = 256\n",
    "train_batch_gen = torch.utils.data.DataLoader(train_dataset, \n",
    "                                              batch_size=batch_size,\n",
    "                                              shuffle=True,\n",
    "                                              num_workers=1)"
   ]
  },
  {
   "cell_type": "code",
   "execution_count": 6,
   "metadata": {
    "id": "HBgW-gzwDMoQ"
   },
   "outputs": [],
   "source": [
    "val_batch_gen = torch.utils.data.DataLoader(val_dataset, \n",
    "                                              batch_size=batch_size,\n",
    "                                              shuffle=True,\n",
    "                                              num_workers=1)"
   ]
  },
  {
   "cell_type": "markdown",
   "metadata": {
    "id": "uD-QtsfqZpxS"
   },
   "source": [
    "## Required functions\n",
    "\n",
    "Here we implement monotonize function and report_sparsity function."
   ]
  },
  {
   "cell_type": "code",
   "execution_count": 7,
   "metadata": {
    "id": "2SqZSvHwZpxT"
   },
   "outputs": [],
   "source": [
    "def monotonize(net, pos=True, ignore_last=True):\n",
    "    for n, x in net.named_parameters():\n",
    "      if 'weight' in n:\n",
    "        if n == 'fc.weight':\n",
    "          continue\n",
    "        attrs = n.split('.')\n",
    "        obj = net\n",
    "        for attr in attrs[:-1]:\n",
    "          obj = getattr(obj, attr)\n",
    "\n",
    "        obj.weight.data = obj.weight.data.clip(min=0)"
   ]
  },
  {
   "cell_type": "code",
   "execution_count": 8,
   "metadata": {
    "id": "srnKDxNJpl5R"
   },
   "outputs": [],
   "source": [
    "def report_sparcity(model,verbose=0):\n",
    "  zero_total = 0\n",
    "  n_total = 0\n",
    "  for layer_name, layer in model.named_modules():\n",
    "    if isinstance(layer, nn.Conv2d) or isinstance(layer,nn.Linear):\n",
    "      zeros = (layer.weight.data == 0).sum().cpu().numpy()\n",
    "      n = np.prod(layer.weight.data.shape)\n",
    "      zero_total += zeros\n",
    "      n_total += n\n",
    "\n",
    "      if verbose > 0:\n",
    "        print(f'Layer: {layer_name}, 0-weights ratio: {zeros/n:.4}')\n",
    "\n",
    "  return zero_total/n_total"
   ]
  },
  {
   "cell_type": "markdown",
   "metadata": {
    "id": "6Kthy3NwZpxV"
   },
   "source": [
    "## Training"
   ]
  },
  {
   "cell_type": "code",
   "execution_count": 9,
   "metadata": {
    "id": "3j-ihRCbZpxV"
   },
   "outputs": [],
   "source": [
    "import time\n",
    "import numpy as np\n",
    "from IPython.display import clear_output\n",
    "\n",
    "def train(model, num_epochs=50, make_monotone=False, l1=0, lr=1e-6):\n",
    "    if make_monotone:\n",
    "        monotonize(model)#, [torch.nn.modules.conv.Conv2d, torch.nn.modules.linear.Linear], [model.fc, model.conv1])\n",
    "    opt = torch.optim.Adam(model.parameters(lr))\n",
    "\n",
    "    train_loss = []\n",
    "    val_loss = []\n",
    "    train_accuracy = []\n",
    "    val_accuracy = []\n",
    "    sparsity = []\n",
    "    \n",
    "    global_metrics = [[], [], [], []]\n",
    "\n",
    "    for epoch in range(num_epochs):\n",
    "        start_time = time.time()\n",
    "        model.train(True)\n",
    "        for (X_batch, y_batch) in tqdm(train_batch_gen):\n",
    "            X_batch = Variable(torch.FloatTensor(X_batch)).cuda()\n",
    "            y_batch = Variable(torch.LongTensor(y_batch)).cuda()\n",
    "            logits = model.cuda()(X_batch)\n",
    "            loss = F.cross_entropy(logits, y_batch).mean()\n",
    "            \n",
    "            for param in model.parameters():\n",
    "                loss += l1 * torch.norm(param, 1)\n",
    "            loss.backward()\n",
    "            opt.step()\n",
    "            \n",
    "            if make_monotone:\n",
    "                monotonize(model)#, [torch.nn.modules.conv.Conv2d, torch.nn.modules.linear.Linear], [model.fc, model.conv1])\n",
    "            \n",
    "            opt.zero_grad()\n",
    "            y_pred = logits.max(1)[1].data\n",
    "            train_loss.append(loss.cpu().data.numpy())\n",
    "            train_accuracy.append(np.mean( (y_batch.cpu() == y_pred.cpu()).numpy() ))\n",
    "\n",
    "        model.train(False)\n",
    "        for X_batch, y_batch in val_batch_gen:\n",
    "            logits = model(Variable(torch.FloatTensor(X_batch)).cuda())\n",
    "            y_batch = Variable(torch.LongTensor(y_batch)).cuda()\n",
    "            loss = F.cross_entropy(logits, y_batch).mean()\n",
    "            y_pred = logits.max(1)[1].data\n",
    "            val_loss.append(loss.cpu().data.numpy())\n",
    "            val_accuracy.append(np.mean( (y_batch.cpu() == y_pred.cpu()).numpy() ))\n",
    "        \n",
    "        sparsity.append(report_sparcity(model))\n",
    "\n",
    "        clear_output(True)\n",
    "        print(\"Epoch {} of {} took {:.3f}s\".format(\n",
    "            epoch + 1, num_epochs, time.time() - start_time))\n",
    "        global_metrics[0].append(np.mean(train_loss[-len(train_dataset) // batch_size :]))\n",
    "        global_metrics[1].append(np.mean(val_loss[-len(val_dataset) // batch_size :]))\n",
    "        global_metrics[2].append(np.mean(train_accuracy[-len(train_dataset) // batch_size :]) * 100)\n",
    "        global_metrics[3].append(np.mean(val_accuracy[-len(val_dataset) // batch_size :]) * 100)\n",
    "        print(\"  training loss (in-iteration): \\t{:.6f}\".format(global_metrics[0][-1]))\n",
    "        print(\"  validation accuracy: \\t\\t\\t{:.2f} %\".format(global_metrics[3][-1]))\n",
    "      #  for layer_name, layer in model.named_modules():\n",
    "      #    if isinstance(layer, nn.Conv2d) or isinstance(layer,nn.Linear):\n",
    "      #      norm = torch.norm(layer.weight)\n",
    "      #      print(norm)   \n",
    "\n",
    "    return global_metrics, sparsity\n"
   ]
  },
  {
   "cell_type": "markdown",
   "metadata": {
    "id": "h-PGbwBMzdtr"
   },
   "source": [
    "Resnet18 training:"
   ]
  },
  {
   "cell_type": "code",
   "execution_count": 10,
   "metadata": {
    "colab": {
     "base_uri": "https://localhost:8080/"
    },
    "id": "-Aick15yZpxW",
    "outputId": "f52a7761-89aa-4230-db6d-52e465ae029f"
   },
   "outputs": [
    {
     "name": "stdout",
     "output_type": "stream",
     "text": [
      "Epoch 50 of 50 took 12.720s\n",
      "  training loss (in-iteration): \t0.025567\n",
      "  validation accuracy: \t\t\t48.73 %\n"
     ]
    }
   ],
   "source": [
    "model = torchvision.models.resnet18(num_classes=100)\n",
    "model.conv1 = nn.Conv2d(3, 64, kernel_size=(3, 3), stride=(1, 1), padding=(1, 1), bias=False)\n",
    "model_metrics, model_sparsity = train(model)"
   ]
  },
  {
   "cell_type": "markdown",
   "metadata": {
    "id": "OE4MGUR_zsuZ"
   },
   "source": [
    "Monotone network"
   ]
  },
  {
   "cell_type": "code",
   "execution_count": 11,
   "metadata": {
    "colab": {
     "base_uri": "https://localhost:8080/"
    },
    "id": "wvORAoYWZpxW",
    "outputId": "e9abc832-69ea-4141-a793-8e36805986f8"
   },
   "outputs": [
    {
     "name": "stdout",
     "output_type": "stream",
     "text": [
      "Epoch 50 of 50 took 12.802s\n",
      "  training loss (in-iteration): \t3.550951\n",
      "  validation accuracy: \t\t\t17.30 %\n"
     ]
    }
   ],
   "source": [
    "model_monotone = torchvision.models.resnet18(num_classes=100)\n",
    "model_monotone.conv1 = nn.Conv2d(3, 64, kernel_size=(3, 3), stride=(1, 1), padding=(1, 1), bias=False)\n",
    "model_monotone_metrics, model_monotone_sparsity = train(model_monotone, make_monotone=True, lr=1e-2)"
   ]
  },
  {
   "cell_type": "markdown",
   "metadata": {
    "id": "LdLD6VOCzyWa"
   },
   "source": [
    "Monotone network + L1-regularization"
   ]
  },
  {
   "cell_type": "code",
   "execution_count": 12,
   "metadata": {
    "colab": {
     "base_uri": "https://localhost:8080/"
    },
    "id": "PUsOtjpdZpxX",
    "outputId": "d5cfe6c1-7291-4dd0-aeb0-f6c77ca88d06"
   },
   "outputs": [
    {
     "name": "stdout",
     "output_type": "stream",
     "text": [
      "Epoch 50 of 50 took 12.722s\n",
      "  training loss (in-iteration): \t3.501121\n",
      "  validation accuracy: \t\t\t18.10 %\n"
     ]
    }
   ],
   "source": [
    "model_monotone_l1 = torchvision.models.resnet18(num_classes=100)\n",
    "model_monotone_l1.conv1 = nn.Conv2d(3, 64, kernel_size=(3, 3), stride=(1, 1), padding=(1, 1), bias=False)\n",
    "model_monotone_l1_metrics, model_monotone_l1_sparsity = train(model_monotone_l1, l1=1e-5, make_monotone=True, lr=1e-4)"
   ]
  },
  {
   "cell_type": "code",
   "execution_count": 13,
   "metadata": {
    "id": "16dJhsu4ZpxX"
   },
   "outputs": [],
   "source": [
    "models = [\n",
    "    'model',\n",
    "    'model_monotone',\n",
    "    'model_monotone_l1'\n",
    "]\n",
    "\n",
    "for model_name in models:\n",
    "    checkpoint = {\n",
    "        'name': model_name.replace('model', 'resnet18'),\n",
    "        'model': globals()[model_name].state_dict(),\n",
    "        'metrics': globals()[model_name + '_metrics'] \n",
    "    }\n",
    "    torch.save(checkpoint, checkpoint['name'] + '.pth')"
   ]
  },
  {
   "cell_type": "code",
   "execution_count": 14,
   "metadata": {
    "colab": {
     "base_uri": "https://localhost:8080/",
     "height": 446
    },
    "id": "YB_hR95lZpxX",
    "outputId": "fce55afc-549e-446b-b62c-9b958595182f",
    "scrolled": false
   },
   "outputs": [
    {
     "data": {
      "image/png": "[encoded data removed]",
      "text/plain": [
       "<Figure size 504x504 with 1 Axes>"
      ]
     },
     "metadata": {
      "needs_background": "light",
      "tags": []
     },
     "output_type": "display_data"
    }
   ],
   "source": [
    "plt.figure(figsize=(7,7))\n",
    "\n",
    "for model_name in models:\n",
    "    plt.plot(globals()[model_name + '_metrics'][1], label=model_name.replace('model', 'resnet18'), lw = 3)\n",
    "plt.legend(fontsize=12, loc='lower right')\n",
    "plt.xlabel(\"Epoch\", fontsize=14)\n",
    "plt.ylabel(\"Loss\", fontsize=14)\n",
    "plt.grid()"
   ]
  },
  {
   "cell_type": "code",
   "execution_count": 15,
   "metadata": {
    "colab": {
     "base_uri": "https://localhost:8080/",
     "height": 446
    },
    "id": "YXux11JoEkNR",
    "outputId": "9333d91d-fa43-4dd4-dc04-592e431013d5"
   },
   "outputs": [
    {
     "data": {
      "image/png": "[encoded data removed]",
      "text/plain": [
       "<Figure size 504x504 with 1 Axes>"
      ]
     },
     "metadata": {
      "needs_background": "light",
      "tags": []
     },
     "output_type": "display_data"
    }
   ],
   "source": [
    "plt.figure(figsize=(7,7))\n",
    "\n",
    "for model_name in models:\n",
    "    plt.plot(globals()[model_name + '_metrics'][3], label=model_name.replace('model', 'resnet18'), lw = 3)\n",
    "plt.legend(fontsize=12)\n",
    "plt.xlabel(\"Epoch\", fontsize=14)\n",
    "plt.ylabel(\"Accuracy\", fontsize=14)\n",
    "plt.grid()"
   ]
  },
  {
   "cell_type": "markdown",
   "metadata": {
    "id": "dvR1fthrZpxY"
   },
   "source": [
    "## Sparsity"
   ]
  },
  {
   "cell_type": "code",
   "execution_count": 16,
   "metadata": {
    "colab": {
     "base_uri": "https://localhost:8080/"
    },
    "id": "b0w731tpZpxZ",
    "outputId": "cf14d445-c650-4ecf-c9e3-6d3688d488c6"
   },
   "outputs": [
    {
     "name": "stdout",
     "output_type": "stream",
     "text": [
      "resnet18 sparsity: 0.0\n",
      "resnet18_monotone sparsity: 0.314\n",
      "resnet18_monotone_l1 sparsity: 0.94\n"
     ]
    }
   ],
   "source": [
    "for model_name in models:\n",
    "    print(f\"{model_name.replace('model', 'resnet18')} sparsity: {globals()[model_name + '_sparsity'][-1]:.03}\")"
   ]
  },
  {
   "cell_type": "code",
   "execution_count": 17,
   "metadata": {
    "colab": {
     "base_uri": "https://localhost:8080/",
     "height": 446
    },
    "id": "P3E1buaj0-PE",
    "outputId": "7cfafdb1-f802-4e81-d8fe-841367db408a"
   },
   "outputs": [
    {
     "data": {
      "image/png": "[encoded data removed]",
      "text/plain": [
       "<Figure size 504x504 with 1 Axes>"
      ]
     },
     "metadata": {
      "needs_background": "light",
      "tags": []
     },
     "output_type": "display_data"
    }
   ],
   "source": [
    "plt.figure(figsize=(7,7))\n",
    "for model_name in models:\n",
    "    plt.plot(globals()[model_name + '_sparsity'], label=model_name.replace('model', 'resnet18'), lw = 3);\n",
    "plt.grid()\n",
    "plt.legend(fontsize=12, loc='lower right');\n",
    "plt.xlabel(\"Epoch\", fontsize=14);\n",
    "plt.ylabel(\"Sparsity\", fontsize=14);"
   ]
  },
  {
   "cell_type": "markdown",
   "metadata": {
    "id": "GYdvlrtZaKGA"
   },
   "source": [
    "##Sanity check"
   ]
  },
  {
   "cell_type": "code",
   "execution_count": 18,
   "metadata": {
    "id": "-HUc0ukFaIXJ"
   },
   "outputs": [],
   "source": [
    "import numpy as np\n",
    "import torch\n",
    "from torch import nn\n",
    "from torchvision import models"
   ]
  },
  {
   "cell_type": "markdown",
   "metadata": {
    "id": "Lp6ObXtg14pZ"
   },
   "source": [
    "Monotone network"
   ]
  },
  {
   "cell_type": "code",
   "execution_count": 19,
   "metadata": {
    "colab": {
     "base_uri": "https://localhost:8080/"
    },
    "id": "H3m3KQPfrUYD",
    "outputId": "22fcf763-629a-431c-cb5f-be585bc99976"
   },
   "outputs": [
    {
     "name": "stdout",
     "output_type": "stream",
     "text": [
      "Network is input monotone: True\n"
     ]
    },
    {
     "name": "stderr",
     "output_type": "stream",
     "text": [
      "/usr/local/lib/python3.7/dist-packages/ipykernel_launcher.py:11: UserWarning: To copy construct from a tensor, it is recommended to use sourceTensor.clone().detach() or sourceTensor.clone().detach().requires_grad_(True), rather than torch.tensor(sourceTensor).\n",
      "  # This is added back by InteractiveShellApp.init_path()\n"
     ]
    }
   ],
   "source": [
    "no_fc_model = torch.nn.Sequential(*(list(model_monotone.children())[:-1]))\n",
    "no_fc_model.eval();\n",
    "\n",
    "seq1 = 1.0*torch.ones(32*32).reshape([32,32])\n",
    "seq2 = 2.0*seq1\n",
    "\n",
    "im_seq1 = torch.stack([seq1,seq1,seq1])\n",
    "im_seq2 = torch.stack([seq2,seq2,seq2])\n",
    "\n",
    "batch_seq = torch.stack([im_seq1,im_seq2])\n",
    "batch_seq  = torch.tensor(batch_seq,dtype=torch.float32)\n",
    "\n",
    "res = no_fc_model(batch_seq.cuda())\n",
    "print(f'Network is input monotone: {torch.all(res[0] <= res[1])}')\n"
   ]
  },
  {
   "cell_type": "markdown",
   "metadata": {
    "id": "Qa0u-fgv18VH"
   },
   "source": [
    "Monotone + L1 network"
   ]
  },
  {
   "cell_type": "code",
   "execution_count": 20,
   "metadata": {
    "colab": {
     "base_uri": "https://localhost:8080/"
    },
    "id": "dgvV6dDk1uSE",
    "outputId": "560f2b02-3add-4c7d-9256-f19dc91c1e9d"
   },
   "outputs": [
    {
     "name": "stdout",
     "output_type": "stream",
     "text": [
      "Network is input monotone: True\n"
     ]
    },
    {
     "name": "stderr",
     "output_type": "stream",
     "text": [
      "/usr/local/lib/python3.7/dist-packages/ipykernel_launcher.py:11: UserWarning: To copy construct from a tensor, it is recommended to use sourceTensor.clone().detach() or sourceTensor.clone().detach().requires_grad_(True), rather than torch.tensor(sourceTensor).\n",
      "  # This is added back by InteractiveShellApp.init_path()\n"
     ]
    }
   ],
   "source": [
    "no_fc_model = torch.nn.Sequential(*(list(model_monotone_l1.children())[:-1]))\n",
    "no_fc_model.eval();\n",
    "\n",
    "seq1 = 1.0*torch.ones(32*32).reshape([32,32])\n",
    "seq2 = 2.0*seq1\n",
    "\n",
    "im_seq1 = torch.stack([seq1,seq1,seq1])\n",
    "im_seq2 = torch.stack([seq2,seq2,seq2])\n",
    "\n",
    "batch_seq = torch.stack([im_seq1,im_seq2])\n",
    "batch_seq  = torch.tensor(batch_seq,dtype=torch.float32)\n",
    "\n",
    "res = no_fc_model(batch_seq.cuda())\n",
    "print(f'Network is input monotone: {torch.all(res[0] <= res[1])}')"
   ]
  }
 ],
 "metadata": {
  "accelerator": "GPU",
  "colab": {
   "name": "Cifar100_ResNet_.ipynb",
   "provenance": [],
   "toc_visible": true
  },
  "kernelspec": {
   "display_name": "Python 3",
   "language": "python",
   "name": "python3"
  },
  "language_info": {
   "codemirror_mode": {
    "name": "ipython",
    "version": 3
   },
   "file_extension": ".py",
   "mimetype": "text/x-python",
   "name": "python",
   "nbconvert_exporter": "python",
   "pygments_lexer": "ipython3",
   "version": "3.7.3"
  },
  "widgets": {
   "application/vnd.jupyter.widget-state+json": {
    "24aac9c8fb5245478596947e9b662b29": {
     "model_module": "@jupyter-widgets/controls",
     "model_name": "HTMLModel",
     "state": {
      "_dom_classes": [],
      "_model_module": "@jupyter-widgets/controls",
      "_model_module_version": "1.5.0",
      "_model_name": "HTMLModel",
      "_view_count": null,
      "_view_module": "@jupyter-widgets/controls",
      "_view_module_version": "1.5.0",
      "_view_name": "HTMLView",
      "description": "",
      "description_tooltip": null,
      "layout": "IPY_MODEL_785c789903574616b4fe3c55146b35f5",
      "placeholder": "​",
      "style": "IPY_MODEL_c9a5dd36dcec43c4a964eedbc1473615",
      "value": " 169001984/? [00:09&lt;00:00, 18297743.21it/s]"
     }
    },
    "4a25aa157fcd4633970894386be80e5a": {
     "model_module": "@jupyter-widgets/base",
     "model_name": "LayoutModel",
     "state": {
      "_model_module": "@jupyter-widgets/base",
      "_model_module_version": "1.2.0",
      "_model_name": "LayoutModel",
      "_view_count": null,
      "_view_module": "@jupyter-widgets/base",
      "_view_module_version": "1.2.0",
      "_view_name": "LayoutView",
      "align_content": null,
      "align_items": null,
      "align_self": null,
      "border": null,
      "bottom": null,
      "display": null,
      "flex": null,
      "flex_flow": null,
      "grid_area": null,
      "grid_auto_columns": null,
      "grid_auto_flow": null,
      "grid_auto_rows": null,
      "grid_column": null,
      "grid_gap": null,
      "grid_row": null,
      "grid_template_areas": null,
      "grid_template_columns": null,
      "grid_template_rows": null,
      "height": null,
      "justify_content": null,
      "justify_items": null,
      "left": null,
      "margin": null,
      "max_height": null,
      "max_width": null,
      "min_height": null,
      "min_width": null,
      "object_fit": null,
      "object_position": null,
      "order": null,
      "overflow": null,
      "overflow_x": null,
      "overflow_y": null,
      "padding": null,
      "right": null,
      "top": null,
      "visibility": null,
      "width": null
     }
    },
    "732ab3dc17f845618938d4eed65e8458": {
     "model_module": "@jupyter-widgets/controls",
     "model_name": "FloatProgressModel",
     "state": {
      "_dom_classes": [],
      "_model_module": "@jupyter-widgets/controls",
      "_model_module_version": "1.5.0",
      "_model_name": "FloatProgressModel",
      "_view_count": null,
      "_view_module": "@jupyter-widgets/controls",
      "_view_module_version": "1.5.0",
      "_view_name": "ProgressView",
      "bar_style": "success",
      "description": "",
      "description_tooltip": null,
      "layout": "IPY_MODEL_4a25aa157fcd4633970894386be80e5a",
      "max": 169001437,
      "min": 0,
      "orientation": "horizontal",
      "style": "IPY_MODEL_7d965d886c08441da40027e3b873364e",
      "value": 169001437
     }
    },
    "785c789903574616b4fe3c55146b35f5": {
     "model_module": "@jupyter-widgets/base",
     "model_name": "LayoutModel",
     "state": {
      "_model_module": "@jupyter-widgets/base",
      "_model_module_version": "1.2.0",
      "_model_name": "LayoutModel",
      "_view_count": null,
      "_view_module": "@jupyter-widgets/base",
      "_view_module_version": "1.2.0",
      "_view_name": "LayoutView",
      "align_content": null,
      "align_items": null,
      "align_self": null,
      "border": null,
      "bottom": null,
      "display": null,
      "flex": null,
      "flex_flow": null,
      "grid_area": null,
      "grid_auto_columns": null,
      "grid_auto_flow": null,
      "grid_auto_rows": null,
      "grid_column": null,
      "grid_gap": null,
      "grid_row": null,
      "grid_template_areas": null,
      "grid_template_columns": null,
      "grid_template_rows": null,
      "height": null,
      "justify_content": null,
      "justify_items": null,
      "left": null,
      "margin": null,
      "max_height": null,
      "max_width": null,
      "min_height": null,
      "min_width": null,
      "object_fit": null,
      "object_position": null,
      "order": null,
      "overflow": null,
      "overflow_x": null,
      "overflow_y": null,
      "padding": null,
      "right": null,
      "top": null,
      "visibility": null,
      "width": null
     }
    },
    "7d965d886c08441da40027e3b873364e": {
     "model_module": "@jupyter-widgets/controls",
     "model_name": "ProgressStyleModel",
     "state": {
      "_model_module": "@jupyter-widgets/controls",
      "_model_module_version": "1.5.0",
      "_model_name": "ProgressStyleModel",
      "_view_count": null,
      "_view_module": "@jupyter-widgets/base",
      "_view_module_version": "1.2.0",
      "_view_name": "StyleView",
      "bar_color": null,
      "description_width": "initial"
     }
    },
    "82cf0c50942244d884789509f1c9bcf0": {
     "model_module": "@jupyter-widgets/base",
     "model_name": "LayoutModel",
     "state": {
      "_model_module": "@jupyter-widgets/base",
      "_model_module_version": "1.2.0",
      "_model_name": "LayoutModel",
      "_view_count": null,
      "_view_module": "@jupyter-widgets/base",
      "_view_module_version": "1.2.0",
      "_view_name": "LayoutView",
      "align_content": null,
      "align_items": null,
      "align_self": null,
      "border": null,
      "bottom": null,
      "display": null,
      "flex": null,
      "flex_flow": null,
      "grid_area": null,
      "grid_auto_columns": null,
      "grid_auto_flow": null,
      "grid_auto_rows": null,
      "grid_column": null,
      "grid_gap": null,
      "grid_row": null,
      "grid_template_areas": null,
      "grid_template_columns": null,
      "grid_template_rows": null,
      "height": null,
      "justify_content": null,
      "justify_items": null,
      "left": null,
      "margin": null,
      "max_height": null,
      "max_width": null,
      "min_height": null,
      "min_width": null,
      "object_fit": null,
      "object_position": null,
      "order": null,
      "overflow": null,
      "overflow_x": null,
      "overflow_y": null,
      "padding": null,
      "right": null,
      "top": null,
      "visibility": null,
      "width": null
     }
    },
    "920ea4e658f64ad59e50d283ce48ee9a": {
     "model_module": "@jupyter-widgets/controls",
     "model_name": "HBoxModel",
     "state": {
      "_dom_classes": [],
      "_model_module": "@jupyter-widgets/controls",
      "_model_module_version": "1.5.0",
      "_model_name": "HBoxModel",
      "_view_count": null,
      "_view_module": "@jupyter-widgets/controls",
      "_view_module_version": "1.5.0",
      "_view_name": "HBoxView",
      "box_style": "",
      "children": [
       "IPY_MODEL_732ab3dc17f845618938d4eed65e8458",
       "IPY_MODEL_24aac9c8fb5245478596947e9b662b29"
      ],
      "layout": "IPY_MODEL_82cf0c50942244d884789509f1c9bcf0"
     }
    },
    "c9a5dd36dcec43c4a964eedbc1473615": {
     "model_module": "@jupyter-widgets/controls",
     "model_name": "DescriptionStyleModel",
     "state": {
      "_model_module": "@jupyter-widgets/controls",
      "_model_module_version": "1.5.0",
      "_model_name": "DescriptionStyleModel",
      "_view_count": null,
      "_view_module": "@jupyter-widgets/base",
      "_view_module_version": "1.2.0",
      "_view_name": "StyleView",
      "description_width": ""
     }
    }
   }
  }
 },
 "nbformat": 4,
 "nbformat_minor": 1
}
